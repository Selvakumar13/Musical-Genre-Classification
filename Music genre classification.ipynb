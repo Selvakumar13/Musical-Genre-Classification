{
 "cells": [
  {
   "cell_type": "code",
   "execution_count": 28,
   "id": "92f002fb",
   "metadata": {},
   "outputs": [],
   "source": [
    "\n",
    "import numpy as np # linear algebra\n",
    "import pandas as pd # data processing, CSV file I/O (e.g. pd.read_csv)\n",
    "import sklearn\n",
    "import sklearn.ensemble\n",
    "\n",
    "# Input data files are available in the read-only \"../input/\" directory\n",
    "# For example, running this (by clicking run or pressing Shift+Enter) will list all files under the input directory\n",
    "\n",
    "import os\n",
    "for dirname, _, filenames in os.walk('/kaggle/input'):\n",
    "    for filename in filenames:\n",
    "        print(os.path.join(dirname, filename))\n"
   ]
  },
  {
   "cell_type": "code",
   "execution_count": 30,
   "id": "5e1f594b",
   "metadata": {},
   "outputs": [
    {
     "name": "stdout",
     "output_type": "stream",
     "text": [
      "       Artist Name                                Track Name  Popularity  \\\n",
      "0      David Bowie              Space Oddity - 2015 Remaster        73.0   \n",
      "1      Crimson Sun                       Essence of Creation        34.0   \n",
      "2             P!nk                          Raise Your Glass        78.0   \n",
      "3     Shawn Mendes                                    Wonder        80.0   \n",
      "4  Backstreet Boys  Helpless When She Smiles - Radio Version        48.0   \n",
      "\n",
      "   danceability  energy   key  loudness  mode  speechiness  acousticness  \\\n",
      "0         0.310   0.403   0.0   -13.664     1       0.0326       0.07260   \n",
      "1         0.511   0.955   1.0    -5.059     1       0.1290       0.00040   \n",
      "2         0.700   0.709   7.0    -5.006     1       0.0839       0.00480   \n",
      "3         0.333   0.637   1.0    -4.904     0       0.0581       0.13100   \n",
      "4         0.393   0.849  11.0    -4.114     1       0.0459       0.00421   \n",
      "\n",
      "   instrumentalness  liveness  valence    tempo  duration_in min/ms  \\\n",
      "0          0.000093    0.1390    0.466  134.480       318027.000000   \n",
      "1          0.000009    0.2630    0.291  151.937       220413.000000   \n",
      "2          0.000000    0.0289    0.625  122.019       202960.000000   \n",
      "3          0.000018    0.1490    0.132  139.898       172693.000000   \n",
      "4          0.000000    0.1620    0.222   74.028            4.093117   \n",
      "\n",
      "   time_signature  \n",
      "0               4  \n",
      "1               4  \n",
      "2               4  \n",
      "3               4  \n",
      "4               4  \n"
     ]
    }
   ],
   "source": [
    "train = pd.read_csv(r\"C:\\Users\\DELL\\Desktop\\projects\\Music data\\train.csv\")\n",
    "train = train.fillna(0)\n",
    "#print(train.head(5))\n",
    "\n",
    "\n",
    "test = pd.read_csv(r\"C:\\Users\\DELL\\Desktop\\projects\\Music data\\test.csv\")\n",
    "test = test.fillna(0)\n",
    "print(test.head(5))"
   ]
  },
  {
   "cell_type": "code",
   "execution_count": 31,
   "id": "ddfaf9cc",
   "metadata": {},
   "outputs": [
    {
     "name": "stdout",
     "output_type": "stream",
     "text": [
      "   Popularity  danceability  energy  key  loudness  mode  speechiness  \\\n",
      "0        73.0         0.310   0.403  0.0   -13.664     1       0.0326   \n",
      "1        34.0         0.511   0.955  1.0    -5.059     1       0.1290   \n",
      "\n",
      "   acousticness  instrumentalness  liveness  valence    tempo  \\\n",
      "0        0.0726          0.000093     0.139    0.466  134.480   \n",
      "1        0.0004          0.000009     0.263    0.291  151.937   \n",
      "\n",
      "   duration_in min/ms  time_signature  \n",
      "0            318027.0               4  \n",
      "1            220413.0               4  \n"
     ]
    }
   ],
   "source": [
    "df_test = test\n",
    "del df_test[\"Artist Name\"]\n",
    "del df_test[\"Track Name\"]\n",
    "print(df_test.head(2))"
   ]
  },
  {
   "cell_type": "code",
   "execution_count": 32,
   "id": "e143ad6d",
   "metadata": {},
   "outputs": [
    {
     "name": "stdout",
     "output_type": "stream",
     "text": [
      "   Popularity  danceability  energy   key  loudness  mode  speechiness  \\\n",
      "0        60.0         0.854   0.564   1.0    -4.964     1       0.0485   \n",
      "1        54.0         0.382   0.814   3.0    -7.230     1       0.0406   \n",
      "2        35.0         0.434   0.614   6.0    -8.334     1       0.0525   \n",
      "3        66.0         0.853   0.597  10.0    -6.528     0       0.0555   \n",
      "4        53.0         0.167   0.975   2.0    -4.279     1       0.2160   \n",
      "\n",
      "   acousticness  instrumentalness  liveness  valence    tempo  \\\n",
      "0      0.017100          0.000000    0.0849   0.8990  134.071   \n",
      "1      0.001100          0.004010    0.1010   0.5690  116.454   \n",
      "2      0.486000          0.000196    0.3940   0.7870  147.681   \n",
      "3      0.021200          0.000000    0.1220   0.5690  107.033   \n",
      "4      0.000169          0.016100    0.1720   0.0918  199.060   \n",
      "\n",
      "   duration_in min/ms  time_signature  \n",
      "0            234596.0               4  \n",
      "1            251733.0               4  \n",
      "2            109667.0               4  \n",
      "3            173968.0               4  \n",
      "4            229960.0               4  \n"
     ]
    }
   ],
   "source": [
    "df_train = train\n",
    "genre = df_train.pop(\"Class\") \n",
    "del df_train[\"Artist Name\"]\n",
    "del df_train[\"Track Name\"]\n",
    "print(df_train.head(5))"
   ]
  },
  {
   "cell_type": "raw",
   "id": "07e4fa01",
   "metadata": {},
   "source": [
    "# Random forest"
   ]
  },
  {
   "cell_type": "code",
   "execution_count": 33,
   "id": "b8242ba2",
   "metadata": {},
   "outputs": [
    {
     "data": {
      "text/plain": [
       "RandomForestClassifier()"
      ]
     },
     "execution_count": 33,
     "metadata": {},
     "output_type": "execute_result"
    }
   ],
   "source": [
    "model = sklearn.ensemble.RandomForestClassifier()\n",
    "model.fit(df_train, genre)"
   ]
  },
  {
   "cell_type": "code",
   "execution_count": 34,
   "id": "acecc0b8",
   "metadata": {},
   "outputs": [
    {
     "name": "stdout",
     "output_type": "stream",
     "text": [
      "[10  8  9 ...  9  6  5]\n"
     ]
    }
   ],
   "source": [
    "pred = model.predict(test)\n",
    "pred = pred.ravel()\n",
    "print(pred)"
   ]
  },
  {
   "cell_type": "code",
   "execution_count": 35,
   "id": "8d20521e",
   "metadata": {},
   "outputs": [
    {
     "name": "stdout",
     "output_type": "stream",
     "text": [
      "[[0. 0. 0. ... 0. 0. 1.]\n",
      " [0. 0. 0. ... 1. 0. 0.]\n",
      " [0. 0. 0. ... 0. 1. 0.]\n",
      " ...\n",
      " [0. 0. 0. ... 0. 1. 0.]\n",
      " [0. 0. 0. ... 0. 0. 0.]\n",
      " [0. 0. 0. ... 0. 0. 0.]]\n"
     ]
    },
    {
     "data": {
      "text/plain": [
       "numpy.ndarray"
      ]
     },
     "execution_count": 35,
     "metadata": {},
     "output_type": "execute_result"
    }
   ],
   "source": [
    "pred_one_hot = np.eye(11)[pred]\n",
    "print(pred_one_hot)\n",
    "type(pred_one_hot)"
   ]
  },
  {
   "cell_type": "code",
   "execution_count": 37,
   "id": "f89ee9bf",
   "metadata": {},
   "outputs": [],
   "source": [
    "result = pd.DataFrame(pred_one_hot)\n",
    "result.to_csv(r'C:\\Users\\DELL\\Desktop\\projects\\Music data\\mysubmissionfile.csv', index=False)"
   ]
  }
 ],
 "metadata": {
  "kernelspec": {
   "display_name": "Python 3 (ipykernel)",
   "language": "python",
   "name": "python3"
  },
  "language_info": {
   "codemirror_mode": {
    "name": "ipython",
    "version": 3
   },
   "file_extension": ".py",
   "mimetype": "text/x-python",
   "name": "python",
   "nbconvert_exporter": "python",
   "pygments_lexer": "ipython3",
   "version": "3.9.10"
  }
 },
 "nbformat": 4,
 "nbformat_minor": 5
}
